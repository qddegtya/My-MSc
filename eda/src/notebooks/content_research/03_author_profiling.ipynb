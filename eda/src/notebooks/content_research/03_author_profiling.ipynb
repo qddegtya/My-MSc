{
 "cells": [
  {
   "cell_type": "markdown",
   "id": "header",
   "metadata": {},
   "source": [
    "# 03 作者画像与影响力分析\n",
    "\n",
    "**【优化新增】分析维度**:\n",
    "1. **作者立场分布**: 按影响力分层（followers）分析立场构成\n",
    "2. **立场一致性**: 对比作者bio vs 实际推文立场\n",
    "3. **影响力分析**: Top 50高影响力作者的叙事与情感偏好"
   ]
  },
  {
   "cell_type": "code",
   "execution_count": 1,
   "id": "setup",
   "metadata": {},
   "outputs": [
    {
     "name": "stdout",
     "output_type": "stream",
     "text": [
      "✅ Python 路径已配置: /workspace\n"
     ]
    }
   ],
   "source": [
    "import sys\n",
    "from pathlib import Path\n",
    "\n",
    "project_root = Path('/workspace')\n",
    "if str(project_root) not in sys.path:\n",
    "    sys.path.insert(0, str(project_root))\n",
    "    \n",
    "print(f\"✅ Python 路径已配置: {project_root}\")"
   ]
  },
  {
   "cell_type": "markdown",
   "id": "load_header",
   "metadata": {},
   "source": [
    "## 步骤 1: 加载并合并数据"
   ]
  },
  {
   "cell_type": "code",
   "execution_count": 2,
   "id": "load_data",
   "metadata": {},
   "outputs": [
    {
     "name": "stdout",
     "output_type": "stream",
     "text": [
      "📊 完整数据: 508,954 条推文, 28 列\n",
      "\n",
      "🔍 检查关键字段:\n",
      "  author_stance_prelabel 存在: True\n",
      "  author_stance_confidence 存在: True\n",
      "\n",
      "📊 内容分析数据（采样）: 4,000 条推文\n",
      "\n",
      "✅ 数据合并完成: 508,954 条推文\n",
      "   author_stance_prelabel 存在: True\n",
      "   political_stance 存在: True\n",
      "   内容分析覆盖率: 0.8%\n"
     ]
    }
   ],
   "source": [
    "import polars as pl\n",
    "from src import io\n",
    "\n",
    "# 加载完整数据（包含作者立场预标注）\n",
    "enriched_df = pl.read_parquet(\"../parquet/tweets_enriched.parquet\")\n",
    "print(f\"📊 完整数据: {enriched_df.height:,} 条推文, {enriched_df.width} 列\")\n",
    "\n",
    "# 【诊断】检查关键字段\n",
    "print(f\"\\n🔍 检查关键字段:\")\n",
    "print(f\"  author_stance_prelabel 存在: {'author_stance_prelabel' in enriched_df.columns}\")\n",
    "print(f\"  author_stance_confidence 存在: {'author_stance_confidence' in enriched_df.columns}\")\n",
    "\n",
    "if 'author_stance_prelabel' not in enriched_df.columns:\n",
    "    print(f\"\\n❌ 错误: enriched parquet 缺少 author_stance_prelabel 字段\")\n",
    "    print(f\"   请确认已重新运行 00_data_intake.ipynb 的所有步骤\")\n",
    "    print(f\"   当前字段列表 (前30个):\")\n",
    "    for i, col in enumerate(enriched_df.columns[:30], 1):\n",
    "        print(f\"     {i:2d}. {col}\")\n",
    "    raise ValueError(\"Missing author_stance_prelabel field in enriched data\")\n",
    "\n",
    "# 加载内容分析结果（包含情感、叙事、立场分类）\n",
    "content_df = pl.read_parquet(\"../parquet/content_analysis.parquet\")\n",
    "print(f\"\\n📊 内容分析数据（采样）: {content_df.height:,} 条推文\")\n",
    "\n",
    "# 合并：将内容分析的字段 join 到完整数据上（基于 pseudo_id）\n",
    "merged_df = enriched_df.join(\n",
    "    content_df.select([\n",
    "        'pseudo_id', 'political_stance', 'stance_confidence',\n",
    "        'primary_emotion', 'primary_narrative'\n",
    "    ]),\n",
    "    on='pseudo_id',\n",
    "    how='left'\n",
    ")\n",
    "\n",
    "print(f\"\\n✅ 数据合并完成: {merged_df.height:,} 条推文\")\n",
    "print(f\"   author_stance_prelabel 存在: {'author_stance_prelabel' in merged_df.columns}\")\n",
    "print(f\"   political_stance 存在: {'political_stance' in merged_df.columns}\")\n",
    "print(f\"   内容分析覆盖率: {merged_df.filter(pl.col('political_stance').is_not_null()).height / merged_df.height * 100:.1f}%\")"
   ]
  },
  {
   "cell_type": "markdown",
   "id": "influence_header",
   "metadata": {},
   "source": [
    "## 步骤 2: 影响力分层分析"
   ]
  },
  {
   "cell_type": "code",
   "execution_count": 3,
   "id": "influence_tiers",
   "metadata": {},
   "outputs": [
    {
     "name": "stdout",
     "output_type": "stream",
     "text": [
      "📊 用于作者分析的推文数: 4,000\n",
      "\n",
      "✅ 作者画像完成: 135 位作者\n",
      "\n",
      "影响力分层:\n",
      "shape: (3, 2)\n",
      "┌───────────────────┬───────┐\n",
      "│ influence_tier    ┆ count │\n",
      "│ ---               ┆ ---   │\n",
      "│ str               ┆ u32   │\n",
      "╞═══════════════════╪═══════╡\n",
      "│ High (100K-1M)    ┆ 88    │\n",
      "│ Medium (10K-100K) ┆ 28    │\n",
      "│ Mega (1M+)        ┆ 19    │\n",
      "└───────────────────┴───────┘\n"
     ]
    }
   ],
   "source": [
    "# 只统计有内容分析结果的推文\n",
    "analyzed_df = merged_df.filter(pl.col('political_stance').is_not_null())\n",
    "print(f\"📊 用于作者分析的推文数: {analyzed_df.height:,}\")\n",
    "\n",
    "# 按作者聚合\n",
    "author_stats = analyzed_df.group_by('pseudo_author_userName').agg([\n",
    "    pl.len().alias('tweet_count'),\n",
    "    pl.col('author_followers').first().alias('followers'),\n",
    "    pl.col('author_stance_prelabel').first().alias('bio_stance'),\n",
    "    pl.col('author_stance_confidence').first().alias('bio_confidence'),\n",
    "    pl.col('political_stance').mode().first().alias('tweet_stance_mode'),\n",
    "    pl.col('stance_confidence').mean().alias('avg_stance_confidence'),\n",
    "    pl.col('retweetCount').sum().alias('total_retweets'),\n",
    "    pl.col('likeCount').sum().alias('total_likes')\n",
    "]).filter(pl.col('followers').is_not_null())\n",
    "\n",
    "# 影响力分层\n",
    "author_stats = author_stats.with_columns(\n",
    "    pl.when(pl.col('followers') >= 1_000_000)\n",
    "      .then(pl.lit('Mega (1M+)'))\n",
    "      .when(pl.col('followers') >= 100_000)\n",
    "      .then(pl.lit('High (100K-1M)'))\n",
    "      .when(pl.col('followers') >= 10_000)\n",
    "      .then(pl.lit('Medium (10K-100K)'))\n",
    "      .otherwise(pl.lit('Low (<10K)'))\n",
    "      .alias('influence_tier')\n",
    ")\n",
    "\n",
    "print(f\"\\n✅ 作者画像完成: {author_stats.height:,} 位作者\")\n",
    "print(f\"\\n影响力分层:\")\n",
    "print(author_stats.group_by('influence_tier').agg(pl.len().alias('count')).sort('count', descending=True))"
   ]
  },
  {
   "cell_type": "markdown",
   "id": "stance_consistency_header",
   "metadata": {},
   "source": [
    "## 步骤 3: 立场一致性分析"
   ]
  },
  {
   "cell_type": "code",
   "execution_count": 4,
   "id": "stance_consistency",
   "metadata": {},
   "outputs": [
    {
     "name": "stdout",
     "output_type": "stream",
     "text": [
      "📊 立场一致性统计:\n",
      "shape: (3, 2)\n",
      "┌────────────────────┬───────┐\n",
      "│ stance_consistency ┆ count │\n",
      "│ ---                ┆ ---   │\n",
      "│ str                ┆ u32   │\n",
      "╞════════════════════╪═══════╡\n",
      "│ bio无立场          ┆ 114   │\n",
      "│ 不一致             ┆ 15    │\n",
      "│ 一致               ┆ 6     │\n",
      "└────────────────────┴───────┘\n",
      "\n",
      "🔍 立场不一致作者: 15 位\n",
      "\n",
      "Top 5 高影响力不一致案例:\n",
      "shape: (5, 5)\n",
      "┌────────────────────────┬───────────┬──────────────┬───────────────────┬─────────────┐\n",
      "│ pseudo_author_userName ┆ followers ┆ bio_stance   ┆ tweet_stance_mode ┆ tweet_count │\n",
      "│ ---                    ┆ ---       ┆ ---          ┆ ---               ┆ ---         │\n",
      "│ i64                    ┆ i64       ┆ str          ┆ str               ┆ u32         │\n",
      "╞════════════════════════╪═══════════╪══════════════╪═══════════════════╪═════════════╡\n",
      "│ 980608787796177        ┆ 3495134   ┆ conservative ┆ neutral           ┆ 1           │\n",
      "│ 976617995024402        ┆ 1258812   ┆ conservative ┆ neutral           ┆ 1           │\n",
      "│ 690114391314736        ┆ 551138    ┆ conservative ┆ neutral           ┆ 1           │\n",
      "│ 55547129339699         ┆ 391553    ┆ conservative ┆ neutral           ┆ 1           │\n",
      "│ 564603717625291        ┆ 376827    ┆ conservative ┆ neutral           ┆ 1           │\n",
      "└────────────────────────┴───────────┴──────────────┴───────────────────┴─────────────┘\n"
     ]
    }
   ],
   "source": [
    "# 计算bio立场 vs 推文立场的一致性\n",
    "author_stats = author_stats.with_columns(\n",
    "    pl.when(\n",
    "        (pl.col('bio_stance') == pl.col('tweet_stance_mode')) & \n",
    "        (pl.col('bio_stance') != 'neutral')\n",
    "    ).then(pl.lit('一致'))\n",
    "    .when(pl.col('bio_stance') == 'neutral')\n",
    "    .then(pl.lit('bio无立场'))\n",
    "    .otherwise(pl.lit('不一致'))\n",
    "    .alias('stance_consistency')\n",
    ")\n",
    "\n",
    "print(\"📊 立场一致性统计:\")\n",
    "consistency_dist = author_stats.group_by('stance_consistency').agg(\n",
    "    pl.len().alias('count')\n",
    ").sort('count', descending=True)\n",
    "print(consistency_dist)\n",
    "\n",
    "# 不一致案例\n",
    "inconsistent = author_stats.filter(\n",
    "    pl.col('stance_consistency') == '不一致'\n",
    ").sort('followers', descending=True)\n",
    "\n",
    "print(f\"\\n🔍 立场不一致作者: {inconsistent.height} 位\")\n",
    "if inconsistent.height > 0:\n",
    "    print(\"\\nTop 5 高影响力不一致案例:\")\n",
    "    print(inconsistent.select([\n",
    "        'pseudo_author_userName', 'followers', 'bio_stance', \n",
    "        'tweet_stance_mode', 'tweet_count'\n",
    "    ]).head(5))"
   ]
  },
  {
   "cell_type": "markdown",
   "id": "top_influencers_header",
   "metadata": {},
   "source": [
    "## 步骤 4: Top 50 高影响力作者分析"
   ]
  },
  {
   "cell_type": "code",
   "execution_count": 5,
   "id": "top_influencers",
   "metadata": {},
   "outputs": [
    {
     "name": "stdout",
     "output_type": "stream",
     "text": [
      "📊 Top 50 影响力作者:\n",
      "  总followers: 137,827,264\n",
      "  总推文数: 251\n",
      "  平均followers: 2756545\n",
      "\n",
      "立场分布:\n",
      "shape: (2, 2)\n",
      "┌───────────────────┬───────┐\n",
      "│ tweet_stance_mode ┆ count │\n",
      "│ ---               ┆ ---   │\n",
      "│ str               ┆ u32   │\n",
      "╞═══════════════════╪═══════╡\n",
      "│ neutral           ┆ 49    │\n",
      "│ conservative      ┆ 1     │\n",
      "└───────────────────┴───────┘\n",
      "\n",
      "Top 10:\n",
      "shape: (10, 6)\n",
      "┌────────────────────┬───────────┬─────────────┬──────────────┬───────────────────┬────────────────┐\n",
      "│ pseudo_author_user ┆ followers ┆ tweet_count ┆ bio_stance   ┆ tweet_stance_mode ┆ influence_tier │\n",
      "│ Name               ┆ ---       ┆ ---         ┆ ---          ┆ ---               ┆ ---            │\n",
      "│ ---                ┆ i64       ┆ u32         ┆ str          ┆ str               ┆ str            │\n",
      "│ i64                ┆           ┆             ┆              ┆                   ┆                │\n",
      "╞════════════════════╪═══════════╪═════════════╪══════════════╪═══════════════════╪════════════════╡\n",
      "│ 894008343785500    ┆ 42102006  ┆ 1           ┆ neutral      ┆ neutral           ┆ Mega (1M+)     │\n",
      "│ 494569400182649    ┆ 27542904  ┆ 2           ┆ neutral      ┆ neutral           ┆ Mega (1M+)     │\n",
      "│ 858758656616399    ┆ 9787255   ┆ 1           ┆ neutral      ┆ neutral           ┆ Mega (1M+)     │\n",
      "│ 291207492905332    ┆ 7065231   ┆ 1           ┆ neutral      ┆ neutral           ┆ Mega (1M+)     │\n",
      "│ 515433734353119    ┆ 6247452   ┆ 196         ┆ neutral      ┆ neutral           ┆ Mega (1M+)     │\n",
      "│ 980608787796177    ┆ 3495134   ┆ 1           ┆ conservative ┆ neutral           ┆ Mega (1M+)     │\n",
      "│ 396024022130589    ┆ 3409650   ┆ 1           ┆ neutral      ┆ neutral           ┆ Mega (1M+)     │\n",
      "│ 171888899843002    ┆ 3352639   ┆ 1           ┆ neutral      ┆ neutral           ┆ Mega (1M+)     │\n",
      "│ 174168451520763    ┆ 3078324   ┆ 1           ┆ neutral      ┆ neutral           ┆ Mega (1M+)     │\n",
      "│ 69913051083537     ┆ 2871323   ┆ 1           ┆ neutral      ┆ neutral           ┆ Mega (1M+)     │\n",
      "└────────────────────┴───────────┴─────────────┴──────────────┴───────────────────┴────────────────┘\n"
     ]
    }
   ],
   "source": [
    "# 提取 Top 50\n",
    "top_50 = author_stats.sort('followers', descending=True).head(50)\n",
    "\n",
    "print(f\"📊 Top 50 影响力作者:\")\n",
    "print(f\"  总followers: {top_50['followers'].sum():,}\")\n",
    "print(f\"  总推文数: {top_50['tweet_count'].sum():,}\")\n",
    "print(f\"  平均followers: {top_50['followers'].mean():.0f}\")\n",
    "\n",
    "# 立场分布\n",
    "print(f\"\\n立场分布:\")\n",
    "stance_dist = top_50.group_by('tweet_stance_mode').agg(\n",
    "    pl.len().alias('count')\n",
    ").sort('count', descending=True)\n",
    "print(stance_dist)\n",
    "\n",
    "# 显示 Top 10\n",
    "print(f\"\\nTop 10:\")\n",
    "print(top_50.select([\n",
    "    'pseudo_author_userName', 'followers', 'tweet_count',\n",
    "    'bio_stance', 'tweet_stance_mode', 'influence_tier'\n",
    "]).head(10))"
   ]
  },
  {
   "cell_type": "markdown",
   "id": "save_header",
   "metadata": {},
   "source": [
    "## 步骤 5: 保存分析结果"
   ]
  },
  {
   "cell_type": "code",
   "execution_count": 6,
   "id": "save_results",
   "metadata": {},
   "outputs": [
    {
     "name": "stdout",
     "output_type": "stream",
     "text": [
      "✅ 作者画像已保存: ../parquet/author_profiling.parquet\n",
      "✅ Top 50 已保存: ../parquet/top_50_influencers.parquet\n",
      "\n",
      "📊 数据概览:\n",
      "  总作者数: 135\n",
      "  影响力分层: 4 个层级\n",
      "  立场一致性分析: 完成\n",
      "  Top 50 高影响力: 已提取\n"
     ]
    }
   ],
   "source": [
    "# 保存完整作者画像\n",
    "author_profile_path = Path(\"../parquet/author_profiling.parquet\")\n",
    "io.materialize_parquet(author_stats.lazy(), author_profile_path)\n",
    "print(f\"✅ 作者画像已保存: {author_profile_path}\")\n",
    "\n",
    "# 保存 Top 50\n",
    "top_50_path = Path(\"../parquet/top_50_influencers.parquet\")\n",
    "io.materialize_parquet(top_50.lazy(), top_50_path)\n",
    "print(f\"✅ Top 50 已保存: {top_50_path}\")\n",
    "\n",
    "print(f\"\\n📊 数据概览:\")\n",
    "print(f\"  总作者数: {author_stats.height:,}\")\n",
    "print(f\"  影响力分层: 4 个层级\")\n",
    "print(f\"  立场一致性分析: 完成\")\n",
    "print(f\"  Top 50 高影响力: 已提取\")"
   ]
  },
  {
   "cell_type": "markdown",
   "id": "summary",
   "metadata": {},
   "source": [
    "## ✅ 作者画像分析完成！\n",
    "\n",
    "**生成数据**:\n",
    "- `author_profiling.parquet`: 完整的作者画像与立场一致性分析\n",
    "- `top_50_influencers.parquet`: Top 50高影响力作者详情\n",
    "\n",
    "**关键洞察**:\n",
    "1. 影响力分层立场分布\n",
    "2. 作者bio vs 推文立场一致性\n",
    "3. 高影响力作者的叙事与情感偏好\n",
    "\n",
    "**下一步**: 结合所有分析结果，构建综合Dashboard"
   ]
  }
 ],
 "metadata": {
  "kernelspec": {
   "display_name": "Python 3 (ipykernel)",
   "language": "python",
   "name": "python3"
  },
  "language_info": {
   "codemirror_mode": {
    "name": "ipython",
    "version": 3
   },
   "file_extension": ".py",
   "mimetype": "text/x-python",
   "name": "python",
   "nbconvert_exporter": "python",
   "pygments_lexer": "ipython3",
   "version": "3.11.14"
  }
 },
 "nbformat": 4,
 "nbformat_minor": 5
}
