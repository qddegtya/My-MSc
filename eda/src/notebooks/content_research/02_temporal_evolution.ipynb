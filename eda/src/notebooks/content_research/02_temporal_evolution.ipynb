{
 "cells": [
  {
   "cell_type": "markdown",
   "id": "c5ce8b96",
   "metadata": {},
   "source": [
    "# 01 时间动态分析：小时级情感演变\n",
    "\n",
    "**研究重点**: Charlie Kirk暗杀事件后72小时的推文量与情感演变\n",
    "\n",
    "**分析目标**:\n",
    "1. 小时级推文量时间序列（特别是前24小时）\n",
    "2. 情感随时间的演变（6大情感 x 72小时）\n",
    "3. 叙事框架随时间的消长\n",
    "4. 关键时间节点标注"
   ]
  },
  {
   "cell_type": "code",
   "execution_count": 1,
   "id": "4a6149f0",
   "metadata": {},
   "outputs": [
    {
     "name": "stdout",
     "output_type": "stream",
     "text": [
      "✅ Python 路径已配置: /workspace\n"
     ]
    }
   ],
   "source": [
    "import sys\n",
    "from pathlib import Path\n",
    "\n",
    "# 将项目根目录添加到 Python 路径\n",
    "project_root = Path('/workspace')\n",
    "if str(project_root) not in sys.path:\n",
    "    sys.path.insert(0, str(project_root))\n",
    "    \n",
    "print(f\"✅ Python 路径已配置: {project_root}\")"
   ]
  },
  {
   "cell_type": "markdown",
   "id": "d0ebded4",
   "metadata": {},
   "source": [
    "## 步骤 1: 加载数据"
   ]
  },
  {
   "cell_type": "code",
   "execution_count": 2,
   "id": "6c06ae86",
   "metadata": {},
   "outputs": [
    {
     "name": "stdout",
     "output_type": "stream",
     "text": [
      "📊 数据加载完成: 508,954 行, 25 列\n",
      "📊 内容分析数据: 2,000 行\n",
      "\n",
      "数据时间范围:\n",
      "  最早: 2025-09-11 23:55:56+00:00\n",
      "  最晚: 2025-09-13 00:12:32+00:00\n",
      "  跨度: 24.3 小时\n"
     ]
    }
   ],
   "source": [
    "import polars as pl\n",
    "from pathlib import Path\n",
    "from datetime import datetime, timezone\n",
    "\n",
    "# 加载enriched数据（包含event_time_delta_hours）\n",
    "df = pl.read_parquet(\"../parquet/tweets_enriched.parquet\")\n",
    "print(f\"📊 数据加载完成: {df.height:,} 行, {df.width} 列\")\n",
    "\n",
    "# 加载内容分析数据（包含情感和叙事）\n",
    "content_df = pl.read_parquet(\"../parquet/content_analysis.parquet\")\n",
    "print(f\"📊 内容分析数据: {content_df.height:,} 行\")\n",
    "\n",
    "print(f\"\\n数据时间范围:\")\n",
    "print(f\"  最早: {df['createdAt'].min()}\")\n",
    "print(f\"  最晚: {df['createdAt'].max()}\")\n",
    "print(f\"  跨度: {(df['createdAt'].max() - df['createdAt'].min()).total_seconds() / 3600:.1f} 小时\")"
   ]
  },
  {
   "cell_type": "markdown",
   "id": "hourly_ts",
   "metadata": {},
   "source": [
    "## 步骤 2: 构建小时级时间序列"
   ]
  },
  {
   "cell_type": "code",
   "execution_count": 3,
   "id": "build_hourly",
   "metadata": {},
   "outputs": [
    {
     "name": "stdout",
     "output_type": "stream",
     "text": [
      "\n",
      "⏰ 小时级时间序列:\n",
      "  总时间点: 26 小时\n",
      "\n",
      "前10小时数据:\n",
      "shape: (10, 7)\n",
      "┌──────────────┬─────────────┬─────────────┬─────────────┬─────────────┬─────────────┬─────────────┐\n",
      "│ hour         ┆ tweet_count ┆ total_retwe ┆ total_likes ┆ total_repli ┆ total_engag ┆ hours_since │\n",
      "│ ---          ┆ ---         ┆ ets         ┆ ---         ┆ es          ┆ ement       ┆ _event      │\n",
      "│ datetime[μs, ┆ u32         ┆ ---         ┆ i64         ┆ ---         ┆ ---         ┆ ---         │\n",
      "│ UTC]         ┆             ┆ i64         ┆             ┆ i64         ┆ i64         ┆ i32         │\n",
      "╞══════════════╪═════════════╪═════════════╪═════════════╪═════════════╪═════════════╪═════════════╡\n",
      "│ 2025-09-11   ┆ 1542        ┆ 23116       ┆ 133996      ┆ 7536        ┆ 164648      ┆ 487743795   │\n",
      "│ 23:00:00 UTC ┆             ┆             ┆             ┆             ┆             ┆             │\n",
      "│ 2025-09-12   ┆ 22070       ┆ 516146      ┆ 3132666     ┆ 230449      ┆ 3879261     ┆ 487744795   │\n",
      "│ 00:00:00 UTC ┆             ┆             ┆             ┆             ┆             ┆             │\n",
      "│ 2025-09-12   ┆ 21136       ┆ 477278      ┆ 3225811     ┆ 132854      ┆ 3835943     ┆ 487745795   │\n",
      "│ 01:00:00 UTC ┆             ┆             ┆             ┆             ┆             ┆             │\n",
      "│ 2025-09-12   ┆ 20058       ┆ 307716      ┆ 1869774     ┆ 96036       ┆ 2273526     ┆ 487746795   │\n",
      "│ 02:00:00 UTC ┆             ┆             ┆             ┆             ┆             ┆             │\n",
      "│ 2025-09-12   ┆ 16827       ┆ 296519      ┆ 2037646     ┆ 88340       ┆ 2422505     ┆ 487747795   │\n",
      "│ 03:00:00 UTC ┆             ┆             ┆             ┆             ┆             ┆             │\n",
      "│ 2025-09-12   ┆ 13949       ┆ 133734      ┆ 870426      ┆ 41737       ┆ 1045897     ┆ 487748795   │\n",
      "│ 04:00:00 UTC ┆             ┆             ┆             ┆             ┆             ┆             │\n",
      "│ 2025-09-12   ┆ 12241       ┆ 198625      ┆ 1187897     ┆ 61645       ┆ 1448167     ┆ 487749795   │\n",
      "│ 05:00:00 UTC ┆             ┆             ┆             ┆             ┆             ┆             │\n",
      "│ 2025-09-12   ┆ 11566       ┆ 108260      ┆ 494808      ┆ 32180       ┆ 635248      ┆ 487750795   │\n",
      "│ 06:00:00 UTC ┆             ┆             ┆             ┆             ┆             ┆             │\n",
      "│ 2025-09-12   ┆ 10816       ┆ 121058      ┆ 675238      ┆ 44331       ┆ 840627      ┆ 487751795   │\n",
      "│ 07:00:00 UTC ┆             ┆             ┆             ┆             ┆             ┆             │\n",
      "│ 2025-09-12   ┆ 10567       ┆ 158682      ┆ 1178156     ┆ 57123       ┆ 1393961     ┆ 487752795   │\n",
      "│ 08:00:00 UTC ┆             ┆             ┆             ┆             ┆             ┆             │\n",
      "└──────────────┴─────────────┴─────────────┴─────────────┴─────────────┴─────────────┴─────────────┘\n"
     ]
    }
   ],
   "source": [
    "# 添加小时维度列\n",
    "df_hourly = df.with_columns([\n",
    "    pl.col('createdAt').dt.truncate('1h').alias('hour'),\n",
    "    pl.col('event_time_delta_hours').cast(pl.Int32).alias('hour_since_shooting')\n",
    "])\n",
    "\n",
    "# 按小时聚合推文量和互动量\n",
    "hourly_counts = df_hourly.group_by('hour').agg([\n",
    "    pl.len().alias('tweet_count'),\n",
    "    pl.col('retweetCount').sum().alias('total_retweets'),\n",
    "    pl.col('likeCount').sum().alias('total_likes'),\n",
    "    pl.col('replyCount').sum().alias('total_replies'),\n",
    "    (pl.col('retweetCount') + pl.col('likeCount') + pl.col('replyCount')).sum().alias('total_engagement'),\n",
    "    pl.col('hour_since_shooting').first().alias('hours_since_event')\n",
    "]).sort('hour')\n",
    "\n",
    "print(f\"\\n⏰ 小时级时间序列:\")\n",
    "print(f\"  总时间点: {hourly_counts.height} 小时\")\n",
    "print(f\"\\n前10小时数据:\")\n",
    "print(hourly_counts.head(10))"
   ]
  },
  {
   "cell_type": "markdown",
   "id": "emotion_ts",
   "metadata": {},
   "source": [
    "## 步骤 3: 情感随时间演变"
   ]
  },
  {
   "cell_type": "code",
   "execution_count": 4,
   "id": "emotion_evolution",
   "metadata": {},
   "outputs": [
    {
     "name": "stdout",
     "output_type": "stream",
     "text": [
      "\n",
      "🎭 情感时间序列:\n",
      "  总时间点: 26 小时\n",
      "\n",
      "情感演变数据（前5小时）:\n",
      "shape: (5, 11)\n",
      "┌───────────┬───────────┬───────────┬───────────┬───┬──────────┬───────────┬───────────┬───────────┐\n",
      "│ hour      ┆ tweet_cou ┆ avg_sadne ┆ avg_anger ┆ … ┆ avg_love ┆ sadness_c ┆ anger_cou ┆ fear_coun │\n",
      "│ ---       ┆ nt        ┆ ss        ┆ ---       ┆   ┆ ---      ┆ ount      ┆ nt        ┆ t         │\n",
      "│ datetime[ ┆ ---       ┆ ---       ┆ f64       ┆   ┆ f64      ┆ ---       ┆ ---       ┆ ---       │\n",
      "│ μs, UTC]  ┆ u32       ┆ f64       ┆           ┆   ┆          ┆ u32       ┆ u32       ┆ u32       │\n",
      "╞═══════════╪═══════════╪═══════════╪═══════════╪═══╪══════════╪═══════════╪═══════════╪═══════════╡\n",
      "│ 2025-09-1 ┆ 3         ┆ 0.146014  ┆ 0.401129  ┆ … ┆ 0.0      ┆ 0         ┆ 1         ┆ 0         │\n",
      "│ 1         ┆           ┆           ┆           ┆   ┆          ┆           ┆           ┆           │\n",
      "│ 23:00:00  ┆           ┆           ┆           ┆   ┆          ┆           ┆           ┆           │\n",
      "│ UTC       ┆           ┆           ┆           ┆   ┆          ┆           ┆           ┆           │\n",
      "│ 2025-09-1 ┆ 99        ┆ 0.142516  ┆ 0.186927  ┆ … ┆ 0.0      ┆ 12        ┆ 21        ┆ 17        │\n",
      "│ 2         ┆           ┆           ┆           ┆   ┆          ┆           ┆           ┆           │\n",
      "│ 00:00:00  ┆           ┆           ┆           ┆   ┆          ┆           ┆           ┆           │\n",
      "│ UTC       ┆           ┆           ┆           ┆   ┆          ┆           ┆           ┆           │\n",
      "│ 2025-09-1 ┆ 93        ┆ 0.168666  ┆ 0.153152  ┆ … ┆ 0.0      ┆ 18        ┆ 15        ┆ 11        │\n",
      "│ 2         ┆           ┆           ┆           ┆   ┆          ┆           ┆           ┆           │\n",
      "│ 01:00:00  ┆           ┆           ┆           ┆   ┆          ┆           ┆           ┆           │\n",
      "│ UTC       ┆           ┆           ┆           ┆   ┆          ┆           ┆           ┆           │\n",
      "│ 2025-09-1 ┆ 91        ┆ 0.140368  ┆ 0.182603  ┆ … ┆ 0.0      ┆ 12        ┆ 17        ┆ 14        │\n",
      "│ 2         ┆           ┆           ┆           ┆   ┆          ┆           ┆           ┆           │\n",
      "│ 02:00:00  ┆           ┆           ┆           ┆   ┆          ┆           ┆           ┆           │\n",
      "│ UTC       ┆           ┆           ┆           ┆   ┆          ┆           ┆           ┆           │\n",
      "│ 2025-09-1 ┆ 68        ┆ 0.162785  ┆ 0.202674  ┆ … ┆ 0.0      ┆ 13        ┆ 14        ┆ 16        │\n",
      "│ 2         ┆           ┆           ┆           ┆   ┆          ┆           ┆           ┆           │\n",
      "│ 03:00:00  ┆           ┆           ┆           ┆   ┆          ┆           ┆           ┆           │\n",
      "│ UTC       ┆           ┆           ┆           ┆   ┆          ┆           ┆           ┆           │\n",
      "└───────────┴───────────┴───────────┴───────────┴───┴──────────┴───────────┴───────────┴───────────┘\n"
     ]
    }
   ],
   "source": [
    "# 为content_df添加小时列\n",
    "content_hourly = content_df.with_columns([\n",
    "    pl.col('createdAt').dt.truncate('1h').alias('hour')\n",
    "])\n",
    "\n",
    "# 按小时聚合情感分数\n",
    "emotion_hourly = content_hourly.group_by('hour').agg([\n",
    "    pl.len().alias('tweet_count'),\n",
    "    pl.col('emotion_sadness').mean().alias('avg_sadness'),\n",
    "    pl.col('emotion_anger').mean().alias('avg_anger'),\n",
    "    pl.col('emotion_fear').mean().alias('avg_fear'),\n",
    "    pl.col('emotion_surprise').mean().alias('avg_surprise'),\n",
    "    pl.col('emotion_joy').mean().alias('avg_joy'),\n",
    "    pl.col('emotion_love').mean().alias('avg_love'),\n",
    "    # 主导情感分布\n",
    "    (pl.col('primary_emotion') == 'sadness').sum().alias('sadness_count'),\n",
    "    (pl.col('primary_emotion') == 'anger').sum().alias('anger_count'),\n",
    "    (pl.col('primary_emotion') == 'fear').sum().alias('fear_count'),\n",
    "]).sort('hour')\n",
    "\n",
    "print(f\"\\n🎭 情感时间序列:\")\n",
    "print(f\"  总时间点: {emotion_hourly.height} 小时\")\n",
    "print(f\"\\n情感演变数据（前5小时）:\")\n",
    "print(emotion_hourly.head(5))"
   ]
  },
  {
   "cell_type": "markdown",
   "id": "narrative_ts",
   "metadata": {},
   "source": [
    "## 步骤 4: 叙事框架随时间演变"
   ]
  },
  {
   "cell_type": "code",
   "execution_count": 5,
   "id": "narrative_evolution",
   "metadata": {},
   "outputs": [
    {
     "name": "stdout",
     "output_type": "stream",
     "text": [
      "\n",
      "📖 叙事时间序列:\n",
      "  总记录数: 142\n",
      "\n",
      "各小时top3叙事（前3小时）:\n",
      "\n",
      "  2025-09-11 23:00:00+00:00:\n",
      "    - political_violence: 2 条\n",
      "    - free_speech: 1 条\n",
      "\n",
      "  2025-09-12 00:00:00+00:00:\n",
      "    - memorial: 48 条\n",
      "    - political_violence: 38 条\n",
      "    - none: 10 条\n",
      "\n",
      "  2025-09-12 01:00:00+00:00:\n",
      "    - political_violence: 37 条\n",
      "    - memorial: 35 条\n",
      "    - none: 16 条\n"
     ]
    }
   ],
   "source": [
    "# 按小时统计各叙事框架的分布\n",
    "narrative_hourly = content_hourly.group_by(['hour', 'primary_narrative']).agg(\n",
    "    pl.len().alias('count')\n",
    ").sort(['hour', 'count'], descending=[False, True])\n",
    "\n",
    "print(f\"\\n📖 叙事时间序列:\")\n",
    "print(f\"  总记录数: {narrative_hourly.height}\")\n",
    "\n",
    "# 展示每小时的top3叙事\n",
    "print(f\"\\n各小时top3叙事（前3小时）:\")\n",
    "for hour in emotion_hourly.head(3)['hour']:\n",
    "    top_narratives = narrative_hourly.filter(pl.col('hour') == hour).head(3)\n",
    "    print(f\"\\n  {hour}:\")\n",
    "    for row in top_narratives.iter_rows(named=True):\n",
    "        print(f\"    - {row['primary_narrative']}: {row['count']} 条\")"
   ]
  },
  {
   "cell_type": "markdown",
   "id": "combined_ts",
   "metadata": {},
   "source": [
    "## 步骤 5: 合并推文量与情感数据"
   ]
  },
  {
   "cell_type": "code",
   "execution_count": 6,
   "id": "combine_data",
   "metadata": {},
   "outputs": [
    {
     "name": "stdout",
     "output_type": "stream",
     "text": [
      "\n",
      "📊 综合时间序列数据:\n",
      "  总时间点: 26 小时\n",
      "  字段数: 17\n",
      "\n",
      "数据预览:\n",
      "shape: (5, 17)\n",
      "┌───────────┬───────────┬───────────┬───────────┬───┬──────────┬───────────┬───────────┬───────────┐\n",
      "│ hour      ┆ tweet_cou ┆ total_ret ┆ total_lik ┆ … ┆ avg_love ┆ sadness_c ┆ anger_cou ┆ fear_coun │\n",
      "│ ---       ┆ nt        ┆ weets     ┆ es        ┆   ┆ ---      ┆ ount      ┆ nt        ┆ t         │\n",
      "│ datetime[ ┆ ---       ┆ ---       ┆ ---       ┆   ┆ f64      ┆ ---       ┆ ---       ┆ ---       │\n",
      "│ μs, UTC]  ┆ u32       ┆ i64       ┆ i64       ┆   ┆          ┆ u32       ┆ u32       ┆ u32       │\n",
      "╞═══════════╪═══════════╪═══════════╪═══════════╪═══╪══════════╪═══════════╪═══════════╪═══════════╡\n",
      "│ 2025-09-1 ┆ 1542      ┆ 23116     ┆ 133996    ┆ … ┆ 0.0      ┆ 0         ┆ 1         ┆ 0         │\n",
      "│ 1         ┆           ┆           ┆           ┆   ┆          ┆           ┆           ┆           │\n",
      "│ 23:00:00  ┆           ┆           ┆           ┆   ┆          ┆           ┆           ┆           │\n",
      "│ UTC       ┆           ┆           ┆           ┆   ┆          ┆           ┆           ┆           │\n",
      "│ 2025-09-1 ┆ 22070     ┆ 516146    ┆ 3132666   ┆ … ┆ 0.0      ┆ 12        ┆ 21        ┆ 17        │\n",
      "│ 2         ┆           ┆           ┆           ┆   ┆          ┆           ┆           ┆           │\n",
      "│ 00:00:00  ┆           ┆           ┆           ┆   ┆          ┆           ┆           ┆           │\n",
      "│ UTC       ┆           ┆           ┆           ┆   ┆          ┆           ┆           ┆           │\n",
      "│ 2025-09-1 ┆ 21136     ┆ 477278    ┆ 3225811   ┆ … ┆ 0.0      ┆ 18        ┆ 15        ┆ 11        │\n",
      "│ 2         ┆           ┆           ┆           ┆   ┆          ┆           ┆           ┆           │\n",
      "│ 01:00:00  ┆           ┆           ┆           ┆   ┆          ┆           ┆           ┆           │\n",
      "│ UTC       ┆           ┆           ┆           ┆   ┆          ┆           ┆           ┆           │\n",
      "│ 2025-09-1 ┆ 20058     ┆ 307716    ┆ 1869774   ┆ … ┆ 0.0      ┆ 12        ┆ 17        ┆ 14        │\n",
      "│ 2         ┆           ┆           ┆           ┆   ┆          ┆           ┆           ┆           │\n",
      "│ 02:00:00  ┆           ┆           ┆           ┆   ┆          ┆           ┆           ┆           │\n",
      "│ UTC       ┆           ┆           ┆           ┆   ┆          ┆           ┆           ┆           │\n",
      "│ 2025-09-1 ┆ 16827     ┆ 296519    ┆ 2037646   ┆ … ┆ 0.0      ┆ 13        ┆ 14        ┆ 16        │\n",
      "│ 2         ┆           ┆           ┆           ┆   ┆          ┆           ┆           ┆           │\n",
      "│ 03:00:00  ┆           ┆           ┆           ┆   ┆          ┆           ┆           ┆           │\n",
      "│ UTC       ┆           ┆           ┆           ┆   ┆          ┆           ┆           ┆           │\n",
      "└───────────┴───────────┴───────────┴───────────┴───┴──────────┴───────────┴───────────┴───────────┘\n"
     ]
    }
   ],
   "source": [
    "# 合并推文量和情感数据（外连接，因为采样数据可能不覆盖所有小时）\n",
    "hourly_combined = hourly_counts.join(\n",
    "    emotion_hourly,\n",
    "    on='hour',\n",
    "    how='left',\n",
    "    suffix='_emotion'\n",
    ")\n",
    "\n",
    "print(f\"\\n📊 综合时间序列数据:\")\n",
    "print(f\"  总时间点: {hourly_combined.height} 小时\")\n",
    "print(f\"  字段数: {hourly_combined.width}\")\n",
    "print(f\"\\n数据预览:\")\n",
    "print(hourly_combined.head(5))"
   ]
  },
  {
   "cell_type": "markdown",
   "id": "key_moments",
   "metadata": {},
   "source": [
    "## 步骤 6: 标注关键时间节点"
   ]
  },
  {
   "cell_type": "code",
   "execution_count": 7,
   "id": "annotate_moments",
   "metadata": {},
   "outputs": [
    {
     "name": "stdout",
     "output_type": "stream",
     "text": [
      "\n",
      "🎯 关键时间节点识别:\n",
      "\n",
      "📈 推文量高峰:\n",
      "  时间: 2025-09-12 14:00:00+00:00\n",
      "  推文数: 35,588\n",
      "\n",
      "😢 悲伤情感高峰:\n",
      "  时间: 2025-09-12 18:00:00+00:00\n",
      "  悲伤强度: 0.211\n",
      "\n",
      "😡 愤怒情感高峰:\n",
      "  时间: 2025-09-11 23:00:00+00:00\n",
      "  愤怒强度: 0.401\n",
      "\n",
      "⏰ 第一个小时（初始反应）:\n",
      "  时间: 2025-09-11 23:00:00+00:00\n",
      "  推文数: 1,542\n"
     ]
    }
   ],
   "source": [
    "# 识别关键时间点\n",
    "print(\"\\n🎯 关键时间节点识别:\")\n",
    "\n",
    "# 1. 推文量高峰\n",
    "peak_volume = hourly_combined.sort('tweet_count', descending=True).head(1)\n",
    "print(f\"\\n📈 推文量高峰:\")\n",
    "print(f\"  时间: {peak_volume['hour'][0]}\")\n",
    "print(f\"  推文数: {peak_volume['tweet_count'][0]:,}\")\n",
    "\n",
    "# 2. 情感强度高峰（sadness, anger, fear）\n",
    "if 'avg_sadness' in hourly_combined.columns:\n",
    "    peak_sadness = hourly_combined.filter(pl.col('avg_sadness').is_not_null()).sort('avg_sadness', descending=True).head(1)\n",
    "    peak_anger = hourly_combined.filter(pl.col('avg_anger').is_not_null()).sort('avg_anger', descending=True).head(1)\n",
    "    \n",
    "    if peak_sadness.height > 0:\n",
    "        print(f\"\\n😢 悲伤情感高峰:\")\n",
    "        print(f\"  时间: {peak_sadness['hour'][0]}\")\n",
    "        print(f\"  悲伤强度: {peak_sadness['avg_sadness'][0]:.3f}\")\n",
    "    \n",
    "    if peak_anger.height > 0:\n",
    "        print(f\"\\n😡 愤怒情感高峰:\")\n",
    "        print(f\"  时间: {peak_anger['hour'][0]}\")\n",
    "        print(f\"  愤怒强度: {peak_anger['avg_anger'][0]:.3f}\")\n",
    "\n",
    "# 3. 第一个小时（初始反应）\n",
    "first_hour = hourly_combined.head(1)\n",
    "print(f\"\\n⏰ 第一个小时（初始反应）:\")\n",
    "print(f\"  时间: {first_hour['hour'][0]}\")\n",
    "print(f\"  推文数: {first_hour['tweet_count'][0]:,}\")"
   ]
  },
  {
   "cell_type": "markdown",
   "id": "save_results",
   "metadata": {},
   "source": [
    "## 步骤 7: 保存时间序列数据"
   ]
  },
  {
   "cell_type": "code",
   "execution_count": 8,
   "id": "save_data",
   "metadata": {},
   "outputs": [
    {
     "name": "stdout",
     "output_type": "stream",
     "text": [
      "✅ 小时级时间序列已保存: parquet/tweets_hourly.parquet\n",
      "✅ 叙事时间序列已保存: parquet/narrative_hourly.parquet\n",
      "\n",
      "📊 数据概览:\n",
      "  小时级时间点: 26\n",
      "  情感维度: 6\n",
      "  叙事框架: 6\n"
     ]
    }
   ],
   "source": [
    "from src import io\n",
    "\n",
    "# 保存小时级推文量数据\n",
    "hourly_path = Path(\"../parquet/tweets_hourly.parquet\")\n",
    "io.materialize_parquet(hourly_combined.lazy(), hourly_path)\n",
    "print(f\"✅ 小时级时间序列已保存: {hourly_path}\")\n",
    "\n",
    "# 保存叙事时间序列\n",
    "narrative_hourly_path = Path(\"../parquet/narrative_hourly.parquet\")\n",
    "io.materialize_parquet(narrative_hourly.lazy(), narrative_hourly_path)\n",
    "print(f\"✅ 叙事时间序列已保存: {narrative_hourly_path}\")\n",
    "\n",
    "print(f\"\\n📊 数据概览:\")\n",
    "print(f\"  小时级时间点: {hourly_combined.height}\")\n",
    "print(f\"  情感维度: 6\")\n",
    "print(f\"  叙事框架: 6\")"
   ]
  },
  {
   "cell_type": "markdown",
   "id": "bf037599",
   "metadata": {},
   "source": [
    "## ✅ 时间序列分析完成！\n",
    "\n",
    "**生成的核心数据**:\n",
    "- `tweets_hourly.parquet`: 小时级推文量 + 情感演变数据\n",
    "- `narrative_hourly.parquet`: 叙事框架的小时级分布\n",
    "\n",
    "**下一步**: 构建Dashboard展示所有分析结果"
   ]
  }
 ],
 "metadata": {
  "kernelspec": {
   "display_name": "Python 3 (ipykernel)",
   "language": "python",
   "name": "python3"
  },
  "language_info": {
   "codemirror_mode": {
    "name": "ipython",
    "version": 3
   },
   "file_extension": ".py",
   "mimetype": "text/x-python",
   "name": "python",
   "nbconvert_exporter": "python",
   "pygments_lexer": "ipython3",
   "version": "3.11.14"
  }
 },
 "nbformat": 4,
 "nbformat_minor": 5
}
