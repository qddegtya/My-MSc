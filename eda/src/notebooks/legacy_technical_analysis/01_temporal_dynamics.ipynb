{
 "cells": [
  {
   "cell_type": "markdown",
   "id": "c5ce8b96",
   "metadata": {},
   "source": [
    "# 01 时间动力学与异常检测"
   ]
  },
  {
   "cell_type": "markdown",
   "id": "44580da3",
   "metadata": {},
   "source": [
    "目标：构建日粒度时间序列，执行 STL 分解、突发检测、异常推文标记。"
   ]
  },
  {
   "cell_type": "code",
   "execution_count": 1,
   "id": "4a6149f0",
   "metadata": {},
   "outputs": [
    {
     "name": "stdout",
     "output_type": "stream",
     "text": [
      "✅ Python 路径已配置: /workspace\n"
     ]
    }
   ],
   "source": [
    "import sys\n",
    "from pathlib import Path\n",
    "\n",
    "# 将项目根目录添加到 Python 路径\n",
    "project_root = Path('/workspace')\n",
    "if str(project_root) not in sys.path:\n",
    "    sys.path.insert(0, str(project_root))\n",
    "    \n",
    "print(f\"✅ Python 路径已配置: {project_root}\")"
   ]
  },
  {
   "cell_type": "markdown",
   "id": "d0ebded4",
   "metadata": {},
   "source": [
    "## 步骤 1: 加载已处理的数据"
   ]
  },
  {
   "cell_type": "code",
   "execution_count": 2,
   "id": "6c06ae86",
   "metadata": {},
   "outputs": [
    {
     "name": "stdout",
     "output_type": "stream",
     "text": [
      "📊 数据加载完成: 508,954 行, 28 列\n",
      "\n",
      "数据时间范围:\n",
      "  最早: 2025-09-11 23:55:56+00:00\n",
      "  最晚: 2025-09-13 00:12:32+00:00\n"
     ]
    }
   ],
   "source": [
    "from src import analysis\n",
    "import polars as pl\n",
    "from pathlib import Path\n",
    "\n",
    "# 加载 parquet 数据\n",
    "df = pl.read_parquet(\"../parquet/tweets_enriched.parquet\")\n",
    "print(f\"📊 数据加载完成: {df.height:,} 行, {df.width} 列\")\n",
    "print(f\"\\n数据时间范围:\")\n",
    "print(f\"  最早: {df['createdAt'].min()}\")\n",
    "print(f\"  最晚: {df['createdAt'].max()}\")"
   ]
  },
  {
   "cell_type": "markdown",
   "id": "62fc5aca",
   "metadata": {},
   "source": [
    "## 步骤 2: 构建时间序列"
   ]
  },
  {
   "cell_type": "code",
   "execution_count": 3,
   "id": "bdf03969",
   "metadata": {},
   "outputs": [
    {
     "name": "stdout",
     "output_type": "stream",
     "text": [
      "📈 时间序列构建完成:\n",
      "  每日统计: 3 天\n",
      "  滚动指标: 0 条记录\n",
      "  异常天数: 0 天\n",
      "\n",
      "异常日期示例:\n",
      "shape: (0, 5)\n",
      "┌────────────┬─────────────┬──────────────────┬─────────────────┬────────────────┐\n",
      "│ event_date ┆ tweet_count ┆ total_engagement ┆ tweet_count_ma7 ┆ engagement_ma7 │\n",
      "│ ---        ┆ ---         ┆ ---              ┆ ---             ┆ ---            │\n",
      "│ date       ┆ u32         ┆ i64              ┆ f64             ┆ f64            │\n",
      "╞════════════╪═════════════╪══════════════════╪═════════════════╪════════════════╡\n",
      "└────────────┴─────────────┴──────────────────┴─────────────────┴────────────────┘\n"
     ]
    }
   ],
   "source": [
    "# 创建互动指标列（如果不存在）\n",
    "if 'total_engagement' not in df.columns:\n",
    "    df = df.with_columns(\n",
    "        (pl.col('retweetCount') + pl.col('replyCount') + pl.col('likeCount') + pl.col('quoteCount')).alias('total_engagement')\n",
    "    )\n",
    "\n",
    "# 使用 analysis 模块构建时间序列\n",
    "ts_profile = analysis.build_time_series(df, 'createdAt', 'total_engagement')\n",
    "\n",
    "print(f\"📈 时间序列构建完成:\")\n",
    "print(f\"  每日统计: {ts_profile.daily_counts.height} 天\")\n",
    "print(f\"  滚动指标: {ts_profile.rolling_metrics.height} 条记录\")\n",
    "print(f\"  异常天数: {ts_profile.anomalies.height} 天\")\n",
    "\n",
    "print(f\"\\n异常日期示例:\")\n",
    "print(ts_profile.anomalies.head(5))"
   ]
  },
  {
   "cell_type": "markdown",
   "id": "6168c475",
   "metadata": {},
   "source": [
    "## 步骤 3: 保存时间序列数据"
   ]
  },
  {
   "cell_type": "code",
   "execution_count": 4,
   "id": "b01b7781",
   "metadata": {},
   "outputs": [
    {
     "name": "stdout",
     "output_type": "stream",
     "text": [
      "✅ 每日统计已保存: ../parquet/tweets_daily.parquet\n",
      "✅ 滚动指标已保存: ../parquet/tweets_rolling.parquet\n",
      "✅ 异常检测结果已保存: ../parquet/tweets_anomalies.parquet\n",
      "\n",
      "📂 生成的文件:\n",
      "  - /workspace/src/notebooks/parquet/author_profiling.parquet\n",
      "  - /workspace/src/notebooks/parquet/content_analysis.parquet\n",
      "  - /workspace/src/notebooks/parquet/content_analysis_legacy.parquet\n",
      "  - /workspace/src/notebooks/parquet/emotion_evolution.parquet\n",
      "  - /workspace/src/notebooks/parquet/narrative_evolution.parquet\n",
      "  - /workspace/src/notebooks/parquet/narrative_hourly.parquet\n",
      "  - /workspace/src/notebooks/parquet/network_centrality.parquet\n",
      "  - /workspace/src/notebooks/parquet/network_edges.parquet\n",
      "  - /workspace/src/notebooks/parquet/top_50_influencers.parquet\n",
      "  - /workspace/src/notebooks/parquet/topic_distribution.parquet\n",
      "  - /workspace/src/notebooks/parquet/tweets_anomalies.parquet\n",
      "  - /workspace/src/notebooks/parquet/tweets_daily.parquet\n",
      "  - /workspace/src/notebooks/parquet/tweets_enriched.parquet\n",
      "  - /workspace/src/notebooks/parquet/tweets_hourly.parquet\n",
      "  - /workspace/src/notebooks/parquet/tweets_rolling.parquet\n",
      "  - /workspace/src/notebooks/parquet/verified_comparison.parquet\n"
     ]
    }
   ],
   "source": [
    "from src import io\n",
    "\n",
    "# 保存每日统计\n",
    "daily_path = Path(\"../parquet/tweets_daily.parquet\")\n",
    "io.materialize_parquet(ts_profile.daily_counts.lazy(), daily_path)\n",
    "print(f\"✅ 每日统计已保存: {daily_path}\")\n",
    "\n",
    "# 保存滚动指标\n",
    "rolling_path = Path(\"../parquet/tweets_rolling.parquet\")\n",
    "io.materialize_parquet(ts_profile.rolling_metrics.lazy(), rolling_path)\n",
    "print(f\"✅ 滚动指标已保存: {rolling_path}\")\n",
    "\n",
    "# 保存异常检测结果\n",
    "anomaly_path = Path(\"../parquet/tweets_anomalies.parquet\")\n",
    "io.materialize_parquet(ts_profile.anomalies.lazy(), anomaly_path)\n",
    "print(f\"✅ 异常检测结果已保存: {anomaly_path}\")\n",
    "\n",
    "print(f\"\\n📂 生成的文件:\")\n",
    "for f in io.list_parquet_files():\n",
    "    print(f\"  - {f}\")"
   ]
  },
  {
   "cell_type": "markdown",
   "id": "bf037599",
   "metadata": {},
   "source": [
    "## ✅ 时间序列分析完成！\n",
    "\n",
    "接下来可以运行 `02_network_intelligence.ipynb` 进行网络分析。"
   ]
  }
 ],
 "metadata": {
  "kernelspec": {
   "display_name": "Python 3 (ipykernel)",
   "language": "python",
   "name": "python3"
  },
  "language_info": {
   "codemirror_mode": {
    "name": "ipython",
    "version": 3
   },
   "file_extension": ".py",
   "mimetype": "text/x-python",
   "name": "python",
   "nbconvert_exporter": "python",
   "pygments_lexer": "ipython3",
   "version": "3.11.14"
  }
 },
 "nbformat": 4,
 "nbformat_minor": 5
}
