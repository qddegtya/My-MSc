{
 "cells": [
  {
   "cell_type": "markdown",
   "id": "5ba0d848",
   "metadata": {},
   "source": [
    "# 02 互动网络分析"
   ]
  },
  {
   "cell_type": "markdown",
   "id": "77051f80",
   "metadata": {},
   "source": [
    "目标：构建回复/引用网络，评估中心性、社区结构与地理属性。"
   ]
  },
  {
   "cell_type": "code",
   "execution_count": 6,
   "id": "e53fbaae",
   "metadata": {},
   "outputs": [
    {
     "name": "stdout",
     "output_type": "stream",
     "text": [
      "✅ Python 路径已配置: /workspace\n"
     ]
    }
   ],
   "source": [
    "import sys\n",
    "from pathlib import Path\n",
    "\n",
    "# 将项目根目录添加到 Python 路径\n",
    "project_root = Path('/workspace')\n",
    "if str(project_root) not in sys.path:\n",
    "    sys.path.insert(0, str(project_root))\n",
    "    \n",
    "print(f\"✅ Python 路径已配置: {project_root}\")"
   ]
  },
  {
   "cell_type": "markdown",
   "id": "51d96a85",
   "metadata": {},
   "source": [
    "## 步骤 1: 加载已处理的数据"
   ]
  },
  {
   "cell_type": "code",
   "execution_count": 7,
   "id": "577872f9",
   "metadata": {},
   "outputs": [
    {
     "name": "stdout",
     "output_type": "stream",
     "text": [
      "📊 数据加载完成: 508,954 行\n",
      "  其中回复推文: 241,881 条 (47.5%)\n"
     ]
    }
   ],
   "source": [
    "from src import analysis\n",
    "import polars as pl\n",
    "import networkx as nx\n",
    "from pathlib import Path\n",
    "\n",
    "# 加载 parquet 数据\n",
    "df = pl.read_parquet(\"parquet/tweets_enriched.parquet\")\n",
    "print(f\"📊 数据加载完成: {df.height:,} 行\")\n",
    "\n",
    "# 统计回复推文\n",
    "reply_count = df.filter(pl.col('isReply') == True).height\n",
    "print(f\"  其中回复推文: {reply_count:,} 条 ({reply_count/df.height*100:.1f}%)\")"
   ]
  },
  {
   "cell_type": "markdown",
   "id": "1543c4e1",
   "metadata": {},
   "source": [
    "## 步骤 2: 构建互动网络边列表"
   ]
  },
  {
   "cell_type": "code",
   "execution_count": 8,
   "id": "e51f722a",
   "metadata": {},
   "outputs": [
    {
     "name": "stdout",
     "output_type": "stream",
     "text": [
      "📈 回复网络边列表:\n",
      "  边数: 213,465\n",
      "  唯一作者: 132,542\n",
      "  唯一目标: 73,600\n",
      "\n",
      "互动最频繁的连接 (top 5):\n",
      "shape: (5, 3)\n",
      "┌────────────────────────┬──────────────────────────┬────────┐\n",
      "│ pseudo_author_userName ┆ pseudo_inReplyToUsername ┆ weight │\n",
      "│ ---                    ┆ ---                      ┆ ---    │\n",
      "│ str                    ┆ str                      ┆ u32    │\n",
      "╞════════════════════════╪══════════════════════════╪════════╡\n",
      "│ 515433734353119        ┆ 486555417218587          ┆ 204    │\n",
      "│ 515433734353119        ┆ 370567833381860          ┆ 162    │\n",
      "│ 515433734353119        ┆                          ┆ 151    │\n",
      "│ 515433734353119        ┆ 993212410226533          ┆ 109    │\n",
      "│ 515433734353119        ┆ 46800858424560           ┆ 81     │\n",
      "└────────────────────────┴──────────────────────────┴────────┘\n"
     ]
    }
   ],
   "source": [
    "# 准备回复网络（作者 -> 被回复的用户名）\n",
    "reply_edges = analysis.prepare_network_projection(\n",
    "    df.filter(pl.col('isReply') == True),\n",
    "    source_col='pseudo_author_userName',\n",
    "    target_col='pseudo_inReplyToUsername'\n",
    ")\n",
    "\n",
    "print(f\"📈 回复网络边列表:\")\n",
    "print(f\"  边数: {reply_edges.height:,}\")\n",
    "print(f\"  唯一作者: {reply_edges['pseudo_author_userName'].n_unique():,}\")\n",
    "print(f\"  唯一目标: {reply_edges['pseudo_inReplyToUsername'].n_unique():,}\")\n",
    "\n",
    "print(f\"\\n互动最频繁的连接 (top 5):\")\n",
    "print(reply_edges.sort('weight', descending=True).head(5))"
   ]
  },
  {
   "cell_type": "markdown",
   "id": "768d603f",
   "metadata": {},
   "source": [
    "## 步骤 3: 构建 NetworkX 图并计算中心性"
   ]
  },
  {
   "cell_type": "code",
   "execution_count": 9,
   "id": "cb53800e",
   "metadata": {},
   "outputs": [
    {
     "name": "stdout",
     "output_type": "stream",
     "text": [
      "🕸️ 网络图构建完成:\n",
      "  节点数: 190,265\n",
      "  边数: 213,465\n",
      "  平均度数: 2.24\n",
      "\n",
      "📊 度中心性 Top 10:\n",
      "  1. 515433734353119: 0.0904\n",
      "  2. 845325022118434: 0.0124\n",
      "  3. : 0.0083\n",
      "  4. 922889366111035: 0.0063\n",
      "  5. 100322182103332: 0.0057\n",
      "  6. 302630543166588: 0.0056\n",
      "  7. 26140580241844: 0.0055\n",
      "  8. 492496883932672: 0.0054\n",
      "  9. 268699992546200: 0.0051\n",
      "  10. 318252820326635: 0.0050\n"
     ]
    }
   ],
   "source": [
    "# 构建有向图\n",
    "G = nx.DiGraph()\n",
    "\n",
    "# 添加边（带权重）\n",
    "for row in reply_edges.iter_rows(named=True):\n",
    "    G.add_edge(row['pseudo_author_userName'], row['pseudo_inReplyToUsername'], weight=row['weight'])\n",
    "\n",
    "print(f\"🕸️ 网络图构建完成:\")\n",
    "print(f\"  节点数: {G.number_of_nodes():,}\")\n",
    "print(f\"  边数: {G.number_of_edges():,}\")\n",
    "print(f\"  平均度数: {sum(dict(G.degree()).values()) / G.number_of_nodes():.2f}\")\n",
    "\n",
    "# 计算度中心性（取 top 10）\n",
    "degree_centrality = nx.degree_centrality(G)\n",
    "top_degree = sorted(degree_centrality.items(), key=lambda x: x[1], reverse=True)[:10]\n",
    "\n",
    "print(f\"\\n📊 度中心性 Top 10:\")\n",
    "for i, (node, score) in enumerate(top_degree, 1):\n",
    "    print(f\"  {i}. {node}: {score:.4f}\")"
   ]
  },
  {
   "cell_type": "markdown",
   "id": "5f7ae199",
   "metadata": {},
   "source": [
    "## 步骤 4: 保存网络数据"
   ]
  },
  {
   "cell_type": "code",
   "execution_count": 10,
   "id": "b884ed25",
   "metadata": {},
   "outputs": [
    {
     "name": "stdout",
     "output_type": "stream",
     "text": [
      "✅ 网络边列表已保存: parquet/network_edges.parquet\n",
      "✅ 中心性指标已保存: parquet/network_centrality.parquet\n",
      "\n",
      "📂 生成的文件:\n"
     ]
    }
   ],
   "source": [
    "from src import io\n",
    "\n",
    "# 保存边列表\n",
    "edges_path = Path(\"parquet/network_edges.parquet\")\n",
    "io.materialize_parquet(reply_edges.lazy(), edges_path)\n",
    "print(f\"✅ 网络边列表已保存: {edges_path}\")\n",
    "\n",
    "# 保存中心性指标\n",
    "centrality_df = pl.DataFrame({\n",
    "    'node': list(degree_centrality.keys()),\n",
    "    'degree_centrality': list(degree_centrality.values())\n",
    "})\n",
    "centrality_path = Path(\"parquet/network_centrality.parquet\")\n",
    "io.materialize_parquet(centrality_df.lazy(), centrality_path)\n",
    "print(f\"✅ 中心性指标已保存: {centrality_path}\")\n",
    "\n",
    "print(f\"\\n📂 生成的文件:\")\n",
    "for f in io.list_parquet_files():\n",
    "    print(f\"  - {f}\")"
   ]
  },
  {
   "cell_type": "markdown",
   "id": "467187e0",
   "metadata": {},
   "source": [
    "## ✅ 网络分析完成！\n",
    "\n",
    "数据已准备好用于 dashboard 可视化。"
   ]
  }
 ],
 "metadata": {
  "kernelspec": {
   "display_name": "Python 3 (ipykernel)",
   "language": "python",
   "name": "python3"
  },
  "language_info": {
   "codemirror_mode": {
    "name": "ipython",
    "version": 3
   },
   "file_extension": ".py",
   "mimetype": "text/x-python",
   "name": "python",
   "nbconvert_exporter": "python",
   "pygments_lexer": "ipython3",
   "version": "3.11.14"
  }
 },
 "nbformat": 4,
 "nbformat_minor": 5
}
